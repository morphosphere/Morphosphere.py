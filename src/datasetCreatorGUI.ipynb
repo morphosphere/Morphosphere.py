{
 "cells": [
  {
   "cell_type": "code",
   "execution_count": 4,
   "metadata": {
    "collapsed": false
   },
   "outputs": [
    {
     "name": "stdout",
     "output_type": "stream",
     "text": [
      "Number of Images to classify: 18136\n"
     ]
    },
    {
     "ename": "ValueError",
     "evalue": "Cannot embed the 'tif' image format",
     "output_type": "error",
     "traceback": [
      "\u001b[0;31m---------------------------------------------------------------------------\u001b[0m",
      "\u001b[0;31mValueError\u001b[0m                                Traceback (most recent call last)",
      "\u001b[0;32m<ipython-input-4-8c6e7991e18a>\u001b[0m in \u001b[0;36m<module>\u001b[0;34m()\u001b[0m\n\u001b[1;32m     87\u001b[0m \u001b[1;31m#print \"There are %d images ready for manual classification.\" % len(fileList)\u001b[0m\u001b[1;33m\u001b[0m\u001b[1;33m\u001b[0m\u001b[0m\n\u001b[1;32m     88\u001b[0m \u001b[1;33m\u001b[0m\u001b[0m\n\u001b[0;32m---> 89\u001b[0;31m \u001b[0mredraw\u001b[0m\u001b[1;33m(\u001b[0m\u001b[0mchoices\u001b[0m\u001b[1;33m,\u001b[0m \u001b[0mimagesList\u001b[0m\u001b[1;33m,\u001b[0m \u001b[1;36m0\u001b[0m\u001b[1;33m)\u001b[0m  \u001b[1;31m# initializes the first choice\u001b[0m\u001b[1;33m\u001b[0m\u001b[0m\n\u001b[0m",
      "\u001b[0;32m<ipython-input-4-8c6e7991e18a>\u001b[0m in \u001b[0;36mredraw\u001b[0;34m(choices, imagesList, i)\u001b[0m\n\u001b[1;32m     41\u001b[0m \u001b[1;33m\u001b[0m\u001b[0m\n\u001b[1;32m     42\u001b[0m \u001b[1;32mdef\u001b[0m \u001b[0mredraw\u001b[0m\u001b[1;33m(\u001b[0m\u001b[0mchoices\u001b[0m\u001b[1;33m,\u001b[0m \u001b[0mimagesList\u001b[0m\u001b[1;33m,\u001b[0m \u001b[0mi\u001b[0m\u001b[1;33m)\u001b[0m\u001b[1;33m:\u001b[0m\u001b[1;33m\u001b[0m\u001b[0m\n\u001b[0;32m---> 43\u001b[0;31m     \u001b[0mdisplay\u001b[0m\u001b[1;33m(\u001b[0m\u001b[0mImage\u001b[0m\u001b[1;33m(\u001b[0m \u001b[0mimagesList\u001b[0m\u001b[1;33m[\u001b[0m\u001b[0mi\u001b[0m\u001b[1;33m]\u001b[0m\u001b[1;33m)\u001b[0m\u001b[1;33m)\u001b[0m\u001b[1;33m\u001b[0m\u001b[0m\n\u001b[0m\u001b[1;32m     44\u001b[0m     \u001b[0mtime\u001b[0m\u001b[1;33m.\u001b[0m\u001b[0msleep\u001b[0m\u001b[1;33m(\u001b[0m\u001b[1;36m1\u001b[0m\u001b[1;33m)\u001b[0m\u001b[1;33m\u001b[0m\u001b[0m\n\u001b[1;32m     45\u001b[0m \u001b[1;33m\u001b[0m\u001b[0m\n",
      "\u001b[0;32mC:\\Users\\FannyGeorgi\\Documents\\Anaconda2\\lib\\site-packages\\IPython\\core\\display.pyc\u001b[0m in \u001b[0;36m__init__\u001b[0;34m(self, data, url, filename, format, embed, width, height, retina, unconfined, metadata)\u001b[0m\n\u001b[1;32m    749\u001b[0m \u001b[1;33m\u001b[0m\u001b[0m\n\u001b[1;32m    750\u001b[0m         \u001b[1;32mif\u001b[0m \u001b[0mself\u001b[0m\u001b[1;33m.\u001b[0m\u001b[0membed\u001b[0m \u001b[1;32mand\u001b[0m \u001b[0mself\u001b[0m\u001b[1;33m.\u001b[0m\u001b[0mformat\u001b[0m \u001b[1;32mnot\u001b[0m \u001b[1;32min\u001b[0m \u001b[0mself\u001b[0m\u001b[1;33m.\u001b[0m\u001b[0m_ACCEPTABLE_EMBEDDINGS\u001b[0m\u001b[1;33m:\u001b[0m\u001b[1;33m\u001b[0m\u001b[0m\n\u001b[0;32m--> 751\u001b[0;31m             \u001b[1;32mraise\u001b[0m \u001b[0mValueError\u001b[0m\u001b[1;33m(\u001b[0m\u001b[1;34m\"Cannot embed the '%s' image format\"\u001b[0m \u001b[1;33m%\u001b[0m \u001b[1;33m(\u001b[0m\u001b[0mself\u001b[0m\u001b[1;33m.\u001b[0m\u001b[0mformat\u001b[0m\u001b[1;33m)\u001b[0m\u001b[1;33m)\u001b[0m\u001b[1;33m\u001b[0m\u001b[0m\n\u001b[0m\u001b[1;32m    752\u001b[0m         \u001b[0mself\u001b[0m\u001b[1;33m.\u001b[0m\u001b[0mwidth\u001b[0m \u001b[1;33m=\u001b[0m \u001b[0mwidth\u001b[0m\u001b[1;33m\u001b[0m\u001b[0m\n\u001b[1;32m    753\u001b[0m         \u001b[0mself\u001b[0m\u001b[1;33m.\u001b[0m\u001b[0mheight\u001b[0m \u001b[1;33m=\u001b[0m \u001b[0mheight\u001b[0m\u001b[1;33m\u001b[0m\u001b[0m\n",
      "\u001b[0;31mValueError\u001b[0m: Cannot embed the 'tif' image format"
     ]
    }
   ],
   "source": [
    "\"\"\"\n",
    "datasetCreatorGUI: GUI to build dataset for MorphoSphere\n",
    "@authors: Fanny Georgi, Vardan Andriasyan, Artur Yakimovich\n",
    "\n",
    "\"\"\"\n",
    "\n",
    "# Prerequisites:\n",
    "# (-) Delete Thumbs from all folders to be included in the data pool\n",
    "# - Ensure only raw data is in the specified input directory\n",
    "\n",
    "# Running instructions:\n",
    "# to be invoked in Jupyter (Fanny: not as Admin)\n",
    "\n",
    "\n",
    "import time\n",
    "from os import listdir, walk, path, makedirs\n",
    "import glob\n",
    "import re\n",
    "from random import shuffle\n",
    "from IPython.display import Image, display, clear_output\n",
    "from ipywidgets import widgets\n",
    "\n",
    "\n",
    "def submit_results(results, path):\n",
    "    writer = csv.writer(open(path + 'results.csv', 'wb'))\n",
    "    for key, value in results.items():\n",
    "        writer.writerow([key, value])\n",
    "    print(\"results saved to:\" + path + 'results.csv')\n",
    "\n",
    "\n",
    "def getImageFiles(imagesPath, pattern):\n",
    "    fileList = []\n",
    "\n",
    "    for folders, subfolders, filenames in walk(imagesPath):\n",
    "        for filename in filenames:\n",
    "            if re.match(pattern, filename):\n",
    "                fileList.append(path.join(folders, filename))\n",
    "\n",
    "    shuffle(fileList)\n",
    "    return fileList\n",
    "\n",
    "def redraw(choices, imagesList, i):\n",
    "    display(Image( imagesList[i]))\n",
    "    time.sleep(1)\n",
    "\n",
    "    buttons = [widgets.Button(description=choice) for choice in choices]\n",
    "\n",
    "    container = widgets.HBox(children=buttons)\n",
    "    display(container)\n",
    "\n",
    "    def on_button_clicked(b):\n",
    "        # [insert code to record choice]\n",
    "        value[imagesList[i]] = b.description\n",
    "        container.close()\n",
    "        clear_output()\n",
    "        if (i <= len(imagesList) - 2):\n",
    "            redraw(choices, imagesList, i + 1)\n",
    "        else:\n",
    "            print(value)\n",
    "            submit_results(value, imagesPath)\n",
    "\n",
    "    for button in buttons:\n",
    "        button.on_click(on_button_clicked)\n",
    "\n",
    "\n",
    "global value\n",
    "\n",
    "# define constants\n",
    "imagesPath = 'N:\\\\Fanny_Georgi\\\\1-12_TumorRemission\\\\20161111_1-12-6_DyingPhenotype\\\\'\n",
    "outputPath = 'N:\\\\Fanny_Georgi\\\\1-12_TumorRemission\\\\InputDataGUI\\\\'\n",
    "extension = \"TIF\"\n",
    "choices = ['healthy_spheroid', 'healthy_non-spheroid', 'unhealthy_spheroid', 'dead_spheroid', 'exclude: oof/ dirt/ non-TL']\n",
    "sizeOfSet = 50 # number of images per set to be selected\n",
    "\n",
    "# create output directories\n",
    "choiceNumber = len(choices) - 1\n",
    "choice = 0\n",
    "while choice < choiceNumber:\n",
    "    if not path.exists(outputPath + choices[choice]):\n",
    "        makedirs(outputPath + choices[choice])\n",
    "    choice = choice + 1\n",
    "\n",
    "# invoking\n",
    "value = {}\n",
    "imagesList = getImageFiles(imagesPath, re.compile(r\".*\" + extension))\n",
    "print('Number of Images to classify: ' + str(len(imagesList)))\n",
    "#print \"There are %d images ready for manual classification.\" % len(fileList)\n",
    "\n",
    "redraw(choices, imagesList, 0)  # initializes the first choice"
   ]
  },
  {
   "cell_type": "code",
   "execution_count": null,
   "metadata": {
    "collapsed": true
   },
   "outputs": [],
   "source": []
  }
 ],
 "metadata": {
  "anaconda-cloud": {},
  "kernelspec": {
   "display_name": "Python [conda root]",
   "language": "python",
   "name": "conda-root-py"
  },
  "language_info": {
   "codemirror_mode": {
    "name": "ipython",
    "version": 2
   },
   "file_extension": ".py",
   "mimetype": "text/x-python",
   "name": "python",
   "nbconvert_exporter": "python",
   "pygments_lexer": "ipython2",
   "version": "2.7.12"
  }
 },
 "nbformat": 4,
 "nbformat_minor": 1
}
