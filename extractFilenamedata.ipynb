{
 "cells": [
  {
   "cell_type": "code",
   "execution_count": 8,
   "metadata": {
    "collapsed": false
   },
   "outputs": [
    {
     "name": "stdout",
     "output_type": "stream",
     "text": [
      "2016-08-16 11:13:42.346000\n",
      "20 files have been detected, equal to 0 plates.\n"
     ]
    }
   ],
   "source": [
    "### This is Fanny's playground\n",
    "\n",
    "### working scripts combined\n",
    "\n",
    "# import packages\n",
    "import os, re, numpy\n",
    "from datetime import datetime\n",
    "\n",
    "# print current time for logging\n",
    "print datetime.now()\n",
    "\n",
    "# get the input directory from a string\n",
    "inputDirectory='C:\\\\Users\\\\FannyG\\\\Documents\\\\Data\\\\20151217_1-12_TumorRemission\\\\MorphoSphereTest'\n",
    "\n",
    "# get basenames of all files in a directory (including subdirectories)\n",
    "filenameList=[]\n",
    "i=0\n",
    "\n",
    "tifFiles = re.compile(r'^.*[A-Z][0-9]*_w[0-9]*\\.tif$', re.IGNORECASE)\n",
    "\n",
    "for foldernames, subfolders, filenames in os.walk(inputDirectory):\n",
    "    for filename in filenames:\n",
    "        if tifFiles.match(filename) != None:\n",
    "            filenameList.append(os.path.join(foldernames, filename))\n",
    "            #print(filename)\n",
    "\n",
    "# print information on detected files\n",
    "numberOfFiles = len(filenameList)\n",
    "numberOfPlates = numberOfFiles/384\n",
    "print \"%s files have been detected, equal to %s plates.\" % (numberOfFiles, numberOfPlates)\n",
    "\n",
    "# convert list into 1 colon array\n",
    "filenameData = numpy.array(filenameList, dtype=str).T\n",
    "#print filenameData.shape\n",
    "#print filenameData\n",
    "#print type(filenameData[0])\n",
    "\n",
    "### extract information from filepath and name \n",
    "\n",
    "# initialize array, chararray needs to be initialized in max dimensions since there is no append function\n",
    "#!!!!!!! initialize as empty to get rid of else = 0\n",
    "filenameMetadata = numpy.chararray((numberOfFiles,7), itemsize=200)\n",
    "\n",
    "# expected format is C:\\\\Users\\\\FannyG\\\\Documents\\\\Data\\\\20151217_1-12_TumorRemission\\\\MorphoSphereTest\\\\Timepoint_1\\\\20160126-corning-all-spheroids-p1-003hps_A01_w1.TIF\n",
    "#filePattern = re.compile(r'Timepoint_(?P<timePoint>\\d+)\\\\(?P<date>\\d+)\\-(?P<experimentName>.*)\\-p(?P<plate>\\d+)\\-(?P<hps>\\d+)hps_(?P<wellID>\\w\\d\\d)_w(?P<channel>\\d+)\\.TIF', re.IGNORECASE)\n",
    "\n",
    "# expected format B is 20160203-corning-all-spheroids-p5-196hps_N03_w2.TIF\n",
    "filePattern = re.compile(r'.+\\\\(?P<date>\\d+)-(?P<experimentName>.*)-p(?P<plate>\\d+)-(?P<hps>\\d+)hps_(?P<wellID>\\w\\d\\d)_w(?P<channel>\\d+).TIF', re.IGNORECASE)\n",
    "\n",
    "selectedFilenameList = []\n",
    "\n",
    "# define wells, channels etc to be analyzed to filter list of file\n",
    "acceptedWells = []\n",
    "acceptedRows = ['A', 'B']\n",
    "acceptedColums = ['01', '02']\n",
    "for r in acceptedRows:\n",
    "    for c in acceptedColums:\n",
    "        acceptedWells.append(r+c)   \n",
    "        \n",
    "acceptedChannels = ['1', '2']\n",
    "\n",
    "i = 0\n",
    "j = 0\n",
    "\n",
    "for i in filenameData:\n",
    "    match = filePattern.search(i)\n",
    "    if match.group('channel') in acceptedChannels and match.group('wellID') in acceptedWells:\n",
    "        filenameMetadata[j, 0] = i\n",
    "        filenameMetadata[j, 1] = match.group('date')\n",
    "        filenameMetadata[j, 2] = match.group('experimentName')\n",
    "        filenameMetadata[j, 3] = match.group('plate')\n",
    "        filenameMetadata[j, 4] = match.group('hps')\n",
    "        filenameMetadata[j, 5] = match.group('wellID')\n",
    "        filenameMetadata[j, 6] = match.group('channel')\n",
    "        selectedFilenameList.append(filenameMetadata[j, 0])\n",
    "        j = j+1 \n",
    "    # temporal solution due to memory leak\n",
    "    else:\n",
    "        filenameMetadata[j, 0] = 0\n",
    "        filenameMetadata[j, 1] = 0\n",
    "        filenameMetadata[j, 2] = 0\n",
    "        filenameMetadata[j, 3] = 0\n",
    "        filenameMetadata[j, 4] = 0\n",
    "        filenameMetadata[j, 5] = 0\n",
    "        filenameMetadata[j, 6] = 0\n",
    "        j = j+1 \n",
    "\n",
    "# remove empty rows using logical indexing\n",
    "filenameMetadata = filenameMetadata[~(filenameMetadata[:,0] == '0')]   \n",
    "#print filenameMetadata   \n",
    "#print len(filenameMetadata.T)\n",
    "#print filenameMetadata.shape\n",
    "\n",
    "selectedFilenameList = numpy.array(selectedFilenameList, dtype=str).T\n",
    "#print selectedFilenameList\n",
    "\n",
    "#return filenameMetadata, selectedFilenameList"
   ]
  },
  {
   "cell_type": "code",
   "execution_count": 16,
   "metadata": {
    "collapsed": false
   },
   "outputs": [
    {
     "ename": "SyntaxError",
     "evalue": "invalid syntax (<ipython-input-16-00b9d1ed2a9d>, line 7)",
     "output_type": "error",
     "traceback": [
      "\u001b[1;36m  File \u001b[1;32m\"<ipython-input-16-00b9d1ed2a9d>\"\u001b[1;36m, line \u001b[1;32m7\u001b[0m\n\u001b[1;33m    >>> from pyparsing import *\u001b[0m\n\u001b[1;37m     ^\u001b[0m\n\u001b[1;31mSyntaxError\u001b[0m\u001b[1;31m:\u001b[0m invalid syntax\n"
     ]
    }
   ],
   "source": [
    "### using pyparsing\n",
    "\n",
    "from pyparsing import *\n",
    "s = 'C:\\\\Users\\\\FannyG\\\\Documents\\\\Data\\\\20151217_1-12_TumorRemission\\\\MorphoSphereTest\\\\1\\\\0dps\\\\20160126-corning-all-spheroids-p1-003hps_A01_w1.TIF'\n",
    "\n",
    "\n",
    ">>> from pyparsing import *\n",
    ">>> s = \"| 'TOMATOES_PICKED'                                  |       914 |       1397 |\"\n",
    ">>> VERT = Suppress('|')\n",
    ">>> title = quotedString.setParseAction(removeQuotes)\n",
    ">>> integer = Word(nums).setParseAction(lambda tokens:int(tokens[0]))\n",
    ">>> entry = Group(VERT + title + VERT + integer + VERT + integer + VERT)\n",
    ">>> entries = Dict(OneOrMore(entry))\n",
    ">>> data = entries.parseString(s)\n",
    ">>> data.keys()\n",
    "['TOMATOES_PICKED']\n",
    ">>> data['TOMATOES_PICKED']\n",
    "([914, 1397], {})\n",
    ">>> data['TOMATOES_PICKED'].asList()\n",
    "[914, 1397]\n",
    ">>> data['TOMATOES_PICKED'][0]\n",
    "914\n",
    ">>> data['TOMATOES_PICKED'][1]\n",
    "1397"
   ]
  },
  {
   "cell_type": "code",
   "execution_count": null,
   "metadata": {
    "collapsed": true
   },
   "outputs": [],
   "source": [
    "# numpy.chararray methods:\n",
    "# http://docs.scipy.org/doc/numpy-1.10.1/reference/generated/numpy.chararray.html\n",
    "\n",
    "tofile(fid[, sep, format])"
   ]
  },
  {
   "cell_type": "code",
   "execution_count": null,
   "metadata": {
    "collapsed": false
   },
   "outputs": [],
   "source": [
    "a = numpy.ones([2,8])\n",
    "print a\n",
    "\n",
    "b = numpy.append(a,numpy.zeros([1, len(a[0])]),0)\n",
    "print b\n",
    "\n",
    "b = numpy.delete(b,(0), axis=0)\n",
    "print b"
   ]
  },
  {
   "cell_type": "code",
   "execution_count": null,
   "metadata": {
    "collapsed": false
   },
   "outputs": [],
   "source": [
    "### working scripts combined\n",
    "\n",
    "# import packages\n",
    "import os, re, numpy\n",
    "from datetime import datetime\n",
    "\n",
    "# print current time for logging\n",
    "print datetime.now()\n",
    "\n",
    "# get the input directory from a string\n",
    "inputDirectory='C:\\\\Users\\\\FannyG\\\\Documents\\\\Data\\\\20151217_1-12_TumorRemission\\\\MorphoSphereTest'\n",
    "\n",
    "# get basenames of all files in a directory (including subdirectories)\n",
    "filenameList=[]\n",
    "i=0\n",
    "\n",
    "tifFiles = re.compile(r'^.*[A-Z][0-9]*_w[0-9]*\\.tif$', re.IGNORECASE)\n",
    "\n",
    "for foldernames, subfolders, filenames in os.walk(inputDirectory):\n",
    "    for filename in filenames:\n",
    "        if tifFiles.match(filename) != None:\n",
    "            filenameList.append(os.path.join(foldernames, filename))\n",
    "            #print(filename)\n",
    "\n",
    "#print \"hello\"\n",
    "\n",
    "# print information on detected files\n",
    "numberOfFiles = len(filenameList)\n",
    "numberOfPlates = numberOfFiles/384\n",
    "print \"%s files have been detected, equal to %s plates.\" % (numberOfFiles, numberOfPlates)\n",
    "\n",
    "\n",
    "# convert list into 1 colon array\n",
    "filenameData = numpy.array(filenameList, dtype=str).T\n",
    "#print filenameData.shape\n",
    "#print filenameData\n",
    "#print type(filenameData[0])\n",
    "\n",
    "# extract information from filepath and name \n",
    "\n",
    "filenameMetadata = numpy.chararray((numberOfFiles,7), itemsize=200)\n",
    "#print fileData.shape\n",
    "#print fileData.ndim\n",
    "# expected format is C:\\\\Users\\\\FannyG\\\\Documents\\\\Data\\\\20151217_1-12_TumorRemission\\\\MorphoSphereTest\\\\Timepoint_1\\\\20160126-corning-all-spheroids-p1-003hps_A01_w1.TIF\n",
    "#filePattern = re.compile(r'Timepoint_(?P<timePoint>\\d+)\\\\(?P<date>\\d+)\\-(?P<experimentName>.*)\\-p(?P<plate>\\d+)\\-(?P<hps>\\d+)hps_(?P<wellID>\\w\\d\\d)_w(?P<channel>\\d+)\\.TIF', re.IGNORECASE)\n",
    "\n",
    "# expected format B is 20160203-corning-all-spheroids-p5-196hps_N03_w2.TIF\n",
    "filePattern = re.compile(r'.+\\\\(?P<date>\\d+)-(?P<experimentName>.*)-p(?P<plate>\\d+)-(?P<hps>\\d+)hps_(?P<wellID>\\w\\d\\d)_w(?P<channel>\\d+).TIF', re.IGNORECASE)\n",
    "\n",
    "selectedFilenameList = []\n",
    "\n",
    "acceptedChannels = {'1', '2'}\n",
    "acceptedWells = {'A02'}\n",
    "j = 0\n",
    "\n",
    "for i in filenameData:\n",
    "    match = filePattern.search(i)\n",
    "    #if match.group('wellID') in acceptedWells:\n",
    "    if match.group('channel') in acceptedChannels and match.group('wellID') in acceptedWells:\n",
    "        filenameMetadata[j, 0] = i\n",
    "        filenameMetadata[j, 1] = match.group('date')\n",
    "        filenameMetadata[j, 2] = match.group('experimentName')\n",
    "        filenameMetadata[j, 3] = match.group('plate')\n",
    "        filenameMetadata[j, 4] = match.group('hps')\n",
    "        filenameMetadata[j, 5] = match.group('wellID')\n",
    "        filenameMetadata[j, 6] = match.group('channel')\n",
    "        #print filenameMetadata[j, 0]\n",
    "        selectedFilenameList.append(filenameMetadata[j, 0])\n",
    "        j = j+1\n",
    "\"\"\"\n",
    "for row in range(filenameMetadata.shape[0]):\n",
    "    if not all(keys for keys in filenameMetadata[row, :]):\n",
    "        filenameMetadata = numpy.delete(filenameMetadata, (row), axis=0)\n",
    "\"\"\"        \n",
    "#print filenameMetadata\n",
    "print filenameMetadata[filenameMetadata.all(1)]\n",
    "#print len(filenameMetadata.T)\n",
    "#print filenameMetadata.shape\n",
    "\n",
    "selectedFilenameList = numpy.array(selectedFilenameList, dtype=str).T\n",
    "print selectedFilenameList\n",
    "\n",
    "selectedFilenameMetadata = numpy.delete(selectedFilenameMetadata, (0), axis=0)\n",
    "print selectedFilenameMetadata\n",
    "#print selectedFilenameMetadata.shape\n",
    " \n",
    "#print filenameMetadata\n",
    "#return filenameMetadata"
   ]
  },
  {
   "cell_type": "code",
   "execution_count": 50,
   "metadata": {
    "collapsed": false
   },
   "outputs": [
    {
     "name": "stdout",
     "output_type": "stream",
     "text": [
      "['5' '7']\n",
      "['aE' 'bF']\n"
     ]
    }
   ],
   "source": [
    "\n",
    "# add shuffling for wells\n",
    "acceptedRows = {'A', 'B'}\n",
    "acceptedColums = {'01', '02'}\n",
    "\n",
    "acceptedWells = numpy.array((5,7), dtype=str)\n",
    "w = 0\n",
    "\n",
    "#for r in acceptedRows:\n",
    "    #for c in acceptedColums:\n",
    "        #acceptedWells.append(numpy.core.defchararray.add(acceptedRows[r], acceptedColums[c]))\n",
    "        #acceptedWells(numpy.core.defchararray.add('a', 'b'))\n",
    "\n",
    "print acceptedWells\n",
    "\n",
    "\n",
    "a1 = numpy.char.array(['a', 'b'])\n",
    "a2 = numpy.char.array(['E', 'F'])\n",
    "\n",
    "print a1 + a2"
   ]
  },
  {
   "cell_type": "code",
   "execution_count": 45,
   "metadata": {
    "collapsed": false
   },
   "outputs": [
    {
     "data": {
      "text/plain": [
       "array(['', '', '', '', '', '', ''], \n",
       "      dtype='|S1')"
      ]
     },
     "execution_count": 45,
     "metadata": {},
     "output_type": "execute_result"
    }
   ],
   "source": [
    "numpy.zeros((7,), dtype=str)"
   ]
  },
  {
   "cell_type": "code",
   "execution_count": 5,
   "metadata": {
    "collapsed": false
   },
   "outputs": [
    {
     "name": "stdout",
     "output_type": "stream",
     "text": [
      "A\n",
      "B\n",
      "['A01', 'A02', 'B01', 'B02']\n"
     ]
    }
   ],
   "source": [
    "wells = []\n",
    "\n",
    "rows = ['A', 'B']\n",
    "colums = ['01', '02']\n",
    "\n",
    "for i in rows:\n",
    "    for j in colums:\n",
    "        wells.append(i+j)\n",
    "\n",
    "print wells\n",
    "\n"
   ]
  },
  {
   "cell_type": "code",
   "execution_count": null,
   "metadata": {
    "collapsed": false
   },
   "outputs": [],
   "source": [
    "#original = raw_input('Enter a word:')"
   ]
  },
  {
   "cell_type": "code",
   "execution_count": null,
   "metadata": {
    "collapsed": true
   },
   "outputs": [],
   "source": []
  }
 ],
 "metadata": {
  "anaconda-cloud": {},
  "kernelspec": {
   "display_name": "Python 2",
   "language": "python",
   "name": "python2"
  },
  "language_info": {
   "codemirror_mode": {
    "name": "ipython",
    "version": 2
   },
   "file_extension": ".py",
   "mimetype": "text/x-python",
   "name": "python",
   "nbconvert_exporter": "python",
   "pygments_lexer": "ipython2",
   "version": "2.7.12"
  }
 },
 "nbformat": 4,
 "nbformat_minor": 0
}
